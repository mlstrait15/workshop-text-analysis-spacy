{
 "cells": [
  {
   "cell_type": "markdown",
   "metadata": {
    "colab_type": "text",
    "id": "7KwDZxPsCJV2"
   },
   "source": [
    "# Workshop in Text Analysis with SpaCy\n",
    "\n",
    "SpaCy is one of the newest, fastest, and most accurate Python libraries for text analysis and natural language processing. This is a whirlwind tour of the package, which unfortunately omits many of SpaCy's best features, for the sake of time. But to learn more about this library, and about computational text analysis more generally, check out these resources: \n",
    "\n",
    " - [An older revision of this workshop notebook](https://github.com/JonathanReeve/workshop-word-embeddings/tree/e0830c7515fee0cc5162654fd5a2a5bd5ea5a0ae)\n",
    " - [Notebooks from a course I taught at UC-Berkeley, called Introduction to Computational Literary Analysis](https://github.com/JonathanReeve/course-computational-literary-analysis/tree/master/Notes)\n",
    " - [The NLTK Book, _Natural Language Processing with Python_](http://www.nltk.org/book/) — not about SpaCy, but a good introduction to Python NLP. \n",
    " - [SpaCy's collection of Jupyter notebooks, featuring an earlier version of this workshop](https://github.com/explosion/spacy-notebooks)\n",
    " - [A workshop notebook in word embeddings](https://github.com/JonathanReeve/workshop-word-embeddings/tree/e0830c7515fee0cc5162654fd5a2a5bd5ea5a0ae), which uses SpaCy. \n",
    " - [SpaCy's own API documentation](https://spacy.io/api)\n",
    "\n",
    "You can also get in touch with me, Jonathan Reeve, [via Gitter](https://gitter.im/JonathanReeve), or email (jon.reeve@gmail.com). Our lab, the [Literary Modeling and Visualization Lab](http://xpmethod.plaintext.in/projects/literary-modeling.html) of the [Group for Experimental Methods in Humanistic Research](http://xpmethod.plaintext.in/about.html) also has [a chatroom on Gitter](https://gitter.im/lit-mod-viz/Lobby) where anyone is welcome to ask questions, and [an open lab every Friday, from 3-5, in Studio@Butler](https://xpmethod.plaintext.in/lab-culture.html) during the semester. Come by and say hi!\n",
    "\n",
    "## Installing the language model\n",
    "\n",
    "To start processing text, we first have to download data about the language we want to process. The installation procedure can be a little tricky, and the best place to learn more about this is in [the SpaCy documentation](https://spacy.io/usage/models). For English, there are several language models available. Some have more features than others. Here, I'll be using `en_core_web_md`, since the smaller one doesn't have as many features, and the larger one will take a little too long to download for such a short workshop. But use whichever one you like. \n",
    "\n",
    "In a Jupyter or Google Colab notebook, you can often run a command like this, prefixed with the `!`, which indicates that it's a shell command, rather than a Python command. You can also run this in your terminal, omitting the `!`. "
   ]
  },
  {
   "cell_type": "code",
   "execution_count": 6,
   "metadata": {
    "colab": {
     "base_uri": "https://localhost:8080/",
     "height": 245
    },
    "colab_type": "code",
    "id": "WXat86FxkhgN",
    "outputId": "563349d8-cf81-4221-eed7-b0719194a963"
   },
   "outputs": [
    {
     "name": "stdout",
     "output_type": "stream",
     "text": [
      "Defaulting to user installation because normal site-packages is not writeable\n",
      "Collecting en-core-web-md==3.5.0\n",
      "  Downloading https://github.com/explosion/spacy-models/releases/download/en_core_web_md-3.5.0/en_core_web_md-3.5.0-py3-none-any.whl (42.8 MB)\n",
      "\u001b[2K     \u001b[90m━━━━━━━━━━━━━━━━━━━━━━━━━━━━━━━━━━━━━━━━\u001b[0m \u001b[32m42.8/42.8 MB\u001b[0m \u001b[31m19.0 MB/s\u001b[0m eta \u001b[36m0:00:00\u001b[0m00:01\u001b[0m00:01\u001b[0m\n",
      "\u001b[?25hRequirement already satisfied: spacy<3.6.0,>=3.5.0 in /Users/mlstrait/Library/Python/3.8/lib/python/site-packages (from en-core-web-md==3.5.0) (3.5.2)\n",
      "Requirement already satisfied: spacy-legacy<3.1.0,>=3.0.11 in /Users/mlstrait/Library/Python/3.8/lib/python/site-packages (from spacy<3.6.0,>=3.5.0->en-core-web-md==3.5.0) (3.0.12)\n",
      "Requirement already satisfied: spacy-loggers<2.0.0,>=1.0.0 in /Users/mlstrait/Library/Python/3.8/lib/python/site-packages (from spacy<3.6.0,>=3.5.0->en-core-web-md==3.5.0) (1.0.4)\n",
      "Requirement already satisfied: murmurhash<1.1.0,>=0.28.0 in /Users/mlstrait/Library/Python/3.8/lib/python/site-packages (from spacy<3.6.0,>=3.5.0->en-core-web-md==3.5.0) (1.0.9)\n",
      "Requirement already satisfied: cymem<2.1.0,>=2.0.2 in /Users/mlstrait/Library/Python/3.8/lib/python/site-packages (from spacy<3.6.0,>=3.5.0->en-core-web-md==3.5.0) (2.0.7)\n",
      "Requirement already satisfied: preshed<3.1.0,>=3.0.2 in /Users/mlstrait/Library/Python/3.8/lib/python/site-packages (from spacy<3.6.0,>=3.5.0->en-core-web-md==3.5.0) (3.0.8)\n",
      "Requirement already satisfied: thinc<8.2.0,>=8.1.8 in /Users/mlstrait/Library/Python/3.8/lib/python/site-packages (from spacy<3.6.0,>=3.5.0->en-core-web-md==3.5.0) (8.1.9)\n",
      "Requirement already satisfied: wasabi<1.2.0,>=0.9.1 in /Users/mlstrait/Library/Python/3.8/lib/python/site-packages (from spacy<3.6.0,>=3.5.0->en-core-web-md==3.5.0) (1.1.1)\n",
      "Requirement already satisfied: srsly<3.0.0,>=2.4.3 in /Users/mlstrait/Library/Python/3.8/lib/python/site-packages (from spacy<3.6.0,>=3.5.0->en-core-web-md==3.5.0) (2.4.6)\n",
      "Requirement already satisfied: catalogue<2.1.0,>=2.0.6 in /Users/mlstrait/Library/Python/3.8/lib/python/site-packages (from spacy<3.6.0,>=3.5.0->en-core-web-md==3.5.0) (2.0.8)\n",
      "Requirement already satisfied: typer<0.8.0,>=0.3.0 in /Users/mlstrait/Library/Python/3.8/lib/python/site-packages (from spacy<3.6.0,>=3.5.0->en-core-web-md==3.5.0) (0.7.0)\n",
      "Requirement already satisfied: pathy>=0.10.0 in /Users/mlstrait/Library/Python/3.8/lib/python/site-packages (from spacy<3.6.0,>=3.5.0->en-core-web-md==3.5.0) (0.10.1)\n",
      "Requirement already satisfied: smart-open<7.0.0,>=5.2.1 in /Users/mlstrait/Library/Python/3.8/lib/python/site-packages (from spacy<3.6.0,>=3.5.0->en-core-web-md==3.5.0) (6.3.0)\n",
      "Requirement already satisfied: tqdm<5.0.0,>=4.38.0 in /Users/mlstrait/Library/Python/3.8/lib/python/site-packages (from spacy<3.6.0,>=3.5.0->en-core-web-md==3.5.0) (4.65.0)\n",
      "Requirement already satisfied: numpy>=1.15.0 in /Users/mlstrait/Library/Python/3.8/lib/python/site-packages (from spacy<3.6.0,>=3.5.0->en-core-web-md==3.5.0) (1.24.2)\n",
      "Requirement already satisfied: requests<3.0.0,>=2.13.0 in /Users/mlstrait/Library/Python/3.8/lib/python/site-packages (from spacy<3.6.0,>=3.5.0->en-core-web-md==3.5.0) (2.28.2)\n",
      "Requirement already satisfied: pydantic!=1.8,!=1.8.1,<1.11.0,>=1.7.4 in /Users/mlstrait/Library/Python/3.8/lib/python/site-packages (from spacy<3.6.0,>=3.5.0->en-core-web-md==3.5.0) (1.10.7)\n",
      "Requirement already satisfied: jinja2 in /Users/mlstrait/Library/Python/3.8/lib/python/site-packages (from spacy<3.6.0,>=3.5.0->en-core-web-md==3.5.0) (3.1.2)\n",
      "Requirement already satisfied: setuptools in /Users/mlstrait/Library/Python/3.8/lib/python/site-packages (from spacy<3.6.0,>=3.5.0->en-core-web-md==3.5.0) (67.8.0)\n",
      "Requirement already satisfied: packaging>=20.0 in /Users/mlstrait/Library/Python/3.8/lib/python/site-packages (from spacy<3.6.0,>=3.5.0->en-core-web-md==3.5.0) (23.1)\n",
      "Requirement already satisfied: langcodes<4.0.0,>=3.2.0 in /Users/mlstrait/Library/Python/3.8/lib/python/site-packages (from spacy<3.6.0,>=3.5.0->en-core-web-md==3.5.0) (3.3.0)\n",
      "Requirement already satisfied: typing-extensions>=4.2.0 in /Users/mlstrait/Library/Python/3.8/lib/python/site-packages (from pydantic!=1.8,!=1.8.1,<1.11.0,>=1.7.4->spacy<3.6.0,>=3.5.0->en-core-web-md==3.5.0) (4.5.0)\n",
      "Requirement already satisfied: charset-normalizer<4,>=2 in /Users/mlstrait/Library/Python/3.8/lib/python/site-packages (from requests<3.0.0,>=2.13.0->spacy<3.6.0,>=3.5.0->en-core-web-md==3.5.0) (3.1.0)\n",
      "Requirement already satisfied: idna<4,>=2.5 in /Users/mlstrait/Library/Python/3.8/lib/python/site-packages (from requests<3.0.0,>=2.13.0->spacy<3.6.0,>=3.5.0->en-core-web-md==3.5.0) (3.4)\n",
      "Requirement already satisfied: urllib3<1.27,>=1.21.1 in /Users/mlstrait/Library/Python/3.8/lib/python/site-packages (from requests<3.0.0,>=2.13.0->spacy<3.6.0,>=3.5.0->en-core-web-md==3.5.0) (1.26.15)\n",
      "Requirement already satisfied: certifi>=2017.4.17 in /Users/mlstrait/Library/Python/3.8/lib/python/site-packages (from requests<3.0.0,>=2.13.0->spacy<3.6.0,>=3.5.0->en-core-web-md==3.5.0) (2022.12.7)\n",
      "Requirement already satisfied: blis<0.8.0,>=0.7.8 in /Users/mlstrait/Library/Python/3.8/lib/python/site-packages (from thinc<8.2.0,>=8.1.8->spacy<3.6.0,>=3.5.0->en-core-web-md==3.5.0) (0.7.9)\n",
      "Requirement already satisfied: confection<1.0.0,>=0.0.1 in /Users/mlstrait/Library/Python/3.8/lib/python/site-packages (from thinc<8.2.0,>=8.1.8->spacy<3.6.0,>=3.5.0->en-core-web-md==3.5.0) (0.0.4)\n",
      "Requirement already satisfied: click<9.0.0,>=7.1.1 in /Users/mlstrait/Library/Python/3.8/lib/python/site-packages (from typer<0.8.0,>=0.3.0->spacy<3.6.0,>=3.5.0->en-core-web-md==3.5.0) (8.1.3)\n",
      "Requirement already satisfied: MarkupSafe>=2.0 in /Users/mlstrait/Library/Python/3.8/lib/python/site-packages (from jinja2->spacy<3.6.0,>=3.5.0->en-core-web-md==3.5.0) (2.1.2)\n",
      "\u001b[38;5;2m✔ Download and installation successful\u001b[0m\n",
      "You can now load the package via spacy.load('en_core_web_md')\n"
     ]
    }
   ],
   "source": [
    "!python3 -m spacy download en_core_web_md"
   ]
  },
  {
   "cell_type": "code",
   "execution_count": 7,
   "metadata": {
    "colab": {},
    "colab_type": "code",
    "id": "-REXmBXqMU7T"
   },
   "outputs": [],
   "source": [
    "import spacy\n",
    "import requests      # For downloading things\n",
    "import pandas as pd  # For data sciencey stuff\n",
    "import numpy as np   # For binning\n",
    "from collections import Counter # For counting"
   ]
  },
  {
   "cell_type": "code",
   "execution_count": 8,
   "metadata": {
    "colab": {},
    "colab_type": "code",
    "id": "DsDhJiCFMbx9"
   },
   "outputs": [],
   "source": [
    "import en_core_web_md\n",
    "nlp = en_core_web_md.load()"
   ]
  },
  {
   "cell_type": "code",
   "execution_count": 9,
   "metadata": {
    "colab": {},
    "colab_type": "code",
    "id": "1wjxWvYwk4zU"
   },
   "outputs": [],
   "source": [
    "# Or use the default model, which has fewer features:\n",
    "# nlp = spacy.load('en')"
   ]
  },
  {
   "cell_type": "code",
   "execution_count": 13,
   "metadata": {
    "colab": {},
    "colab_type": "code",
    "id": "P8PaOY1yRU5M"
   },
   "outputs": [],
   "source": [
    "# I shortened these links to make them easier to type during the workshop, \n",
    "# but they just point to files here: https://github.com/JonathanReeve/advanced-text-analysis-workshop-2017\n",
    "grailRaw = requests.get('http://bit.ly/grail-txt').text\n",
    "prideRaw = requests.get('http://bit.ly/pride-txt').text"
   ]
  },
  {
   "cell_type": "code",
   "execution_count": 35,
   "metadata": {
    "colab": {},
    "colab_type": "code",
    "id": "vLzgh4yiiO0t"
   },
   "outputs": [],
   "source": [
    "# If I have those files in my local directory, I can just run: \n",
    "prideRaw = open('./texts/pride.txt').read()\n",
    "grailRaw = open('./texts/grail.txt').read()\n",
    "testRaw = open('../mtp-letters-data/texts/uccl/txt/UCCL00008.txt').read()\n",
    "huckRaw = open('../mtp-writings-data/sources/txt/MTDP10000.txt').read()"
   ]
  },
  {
   "cell_type": "code",
   "execution_count": 20,
   "metadata": {
    "colab": {
     "base_uri": "https://localhost:8080/",
     "height": 106
    },
    "colab_type": "code",
    "id": "J2PQKP7OReQ-",
    "outputId": "768a7dff-3f3d-4fd3-802c-2318d624223e"
   },
   "outputs": [
    {
     "name": "stdout",
     "output_type": "stream",
     "text": [
      "SCENE 1: [wind] [clop clop clop] \n",
      "KING ARTHUR: Whoa there!  [clop clop clop] \n",
      "SOLDIER #1: Halt!  Who goes there?\n",
      "ARTHUR: It is I, Arthur, son of Uther Pendragon, from the castle of Camelot.  King of t\n"
     ]
    }
   ],
   "source": [
    "print(grailRaw[:200]) # Sanity check"
   ]
  },
  {
   "cell_type": "code",
   "execution_count": 36,
   "metadata": {
    "colab": {
     "base_uri": "https://localhost:8080/",
     "height": 104
    },
    "colab_type": "code",
    "id": "UG-P_hJQwBVg",
    "outputId": "05c98d80-dc45-43bf-9502-3ceeb824444a"
   },
   "outputs": [
    {
     "name": "stdout",
     "output_type": "stream",
     "text": [
      "\n",
      "\n",
      "don’t know about me, without you have read a book by the name of “The Adventures of Tom Sawyer,” but that ain’t no matter. That book was made by Mr. Mark Twain, and he told the truth, mainly. There \n"
     ]
    }
   ],
   "source": [
    "print(huckRaw[:200])"
   ]
  },
  {
   "cell_type": "code",
   "execution_count": 22,
   "metadata": {
    "colab": {},
    "colab_type": "code",
    "id": "Fh4hxAj6ZCqE"
   },
   "outputs": [],
   "source": [
    "grail = nlp(grailRaw)"
   ]
  },
  {
   "cell_type": "code",
   "execution_count": 23,
   "metadata": {
    "colab": {
     "base_uri": "https://localhost:8080/",
     "height": 34
    },
    "colab_type": "code",
    "id": "UuhHxJjcpfWA",
    "outputId": "3ed2539c-34b8-47b1-d992-cc7824167621"
   },
   "outputs": [
    {
     "data": {
      "text/plain": [
       "spacy.tokens.doc.Doc"
      ]
     },
     "execution_count": 23,
     "metadata": {},
     "output_type": "execute_result"
    }
   ],
   "source": [
    "type(grail)"
   ]
  },
  {
   "cell_type": "code",
   "execution_count": 37,
   "metadata": {
    "colab": {},
    "colab_type": "code",
    "id": "S2VmOfNEt-H5"
   },
   "outputs": [],
   "source": [
    "huck = nlp(huckRaw)"
   ]
  },
  {
   "cell_type": "code",
   "execution_count": 38,
   "metadata": {
    "colab": {
     "base_uri": "https://localhost:8080/",
     "height": 34
    },
    "colab_type": "code",
    "id": "GA2HgI9qDPiv",
    "outputId": "1fba3b3b-c820-48f6-cb9b-f0966a88753f"
   },
   "outputs": [
    {
     "data": {
      "text/plain": [
       "spacy.tokens.doc.Doc"
      ]
     },
     "execution_count": 38,
     "metadata": {},
     "output_type": "execute_result"
    }
   ],
   "source": [
    "type(huck)"
   ]
  },
  {
   "cell_type": "markdown",
   "metadata": {
    "colab_type": "text",
    "id": "u_I2WRm3jbq4"
   },
   "source": [
    "## What properties does this Doc object have? "
   ]
  },
  {
   "cell_type": "code",
   "execution_count": 39,
   "metadata": {
    "colab": {
     "base_uri": "https://localhost:8080/",
     "height": 781
    },
    "colab_type": "code",
    "id": "mGOK_HZYjgBq",
    "outputId": "182ec08e-d344-41c3-c8e2-4e2bd1585dfa"
   },
   "outputs": [
    {
     "data": {
      "text/plain": [
       "['cats',\n",
       " 'char_span',\n",
       " 'copy',\n",
       " 'count_by',\n",
       " 'doc',\n",
       " 'ents',\n",
       " 'extend_tensor',\n",
       " 'from_array',\n",
       " 'from_bytes',\n",
       " 'from_dict',\n",
       " 'from_disk',\n",
       " 'from_docs',\n",
       " 'from_json',\n",
       " 'get_extension',\n",
       " 'get_lca_matrix',\n",
       " 'has_annotation',\n",
       " 'has_extension',\n",
       " 'has_unknown_spaces',\n",
       " 'has_vector',\n",
       " 'is_nered',\n",
       " 'is_parsed',\n",
       " 'is_sentenced',\n",
       " 'is_tagged',\n",
       " 'lang',\n",
       " 'lang_',\n",
       " 'mem',\n",
       " 'noun_chunks',\n",
       " 'noun_chunks_iterator',\n",
       " 'remove_extension',\n",
       " 'retokenize',\n",
       " 'sentiment',\n",
       " 'sents',\n",
       " 'set_ents',\n",
       " 'set_extension',\n",
       " 'similarity',\n",
       " 'spans',\n",
       " 'tensor',\n",
       " 'text',\n",
       " 'text_with_ws',\n",
       " 'to_array',\n",
       " 'to_bytes',\n",
       " 'to_dict',\n",
       " 'to_disk',\n",
       " 'to_json',\n",
       " 'to_utf8_array',\n",
       " 'user_data',\n",
       " 'user_hooks',\n",
       " 'user_span_hooks',\n",
       " 'user_token_hooks',\n",
       " 'vector',\n",
       " 'vector_norm',\n",
       " 'vocab']"
      ]
     },
     "execution_count": 39,
     "metadata": {},
     "output_type": "execute_result"
    }
   ],
   "source": [
    "[prop for prop in dir(huck) if not prop.startswith('_')]"
   ]
  },
  {
   "cell_type": "markdown",
   "metadata": {
    "colab_type": "text",
    "id": "oyDgxaDfKft7"
   },
   "source": [
    "SpaCy processes everything all at once, which explains why the command above takes so long. It's doing named entity recognition, looking up word vectors, doing POS tagging, and performing other tasks. \n",
    "\n",
    "## How many words are there in a text? "
   ]
  },
  {
   "cell_type": "code",
   "execution_count": 40,
   "metadata": {
    "colab": {
     "base_uri": "https://localhost:8080/",
     "height": 34
    },
    "colab_type": "code",
    "id": "2150_uXoDXcz",
    "outputId": "1b464811-a926-4a81-a841-33ea27892955"
   },
   "outputs": [
    {
     "data": {
      "text/plain": [
       "(18523, 155432, 146869)"
      ]
     },
     "execution_count": 40,
     "metadata": {},
     "output_type": "execute_result"
    }
   ],
   "source": [
    "len(grail), len(pride), len(huck)"
   ]
  },
  {
   "cell_type": "code",
   "execution_count": 28,
   "metadata": {
    "colab": {
     "base_uri": "https://localhost:8080/",
     "height": 34
    },
    "colab_type": "code",
    "id": "TFSZ6vl_BNgb",
    "outputId": "0849b4f9-e828-4ae9-ea62-7d6834d8597c"
   },
   "outputs": [
    {
     "data": {
      "text/plain": [
       "155432"
      ]
     },
     "execution_count": 28,
     "metadata": {},
     "output_type": "execute_result"
    }
   ],
   "source": [
    "len(pride)"
   ]
  },
  {
   "cell_type": "code",
   "execution_count": 0,
   "metadata": {
    "colab": {
     "base_uri": "https://localhost:8080/",
     "height": 34
    },
    "colab_type": "code",
    "id": "T5NM7vkoDavC",
    "outputId": "16bf41ab-6b05-49cf-cf3c-7b9247db002f"
   },
   "outputs": [
    {
     "data": {
      "text/plain": [
       "Whoa"
      ]
     },
     "execution_count": 181,
     "metadata": {
      "tags": []
     },
     "output_type": "execute_result"
    }
   ],
   "source": [
    "grail[15] # The sixteenth word"
   ]
  },
  {
   "cell_type": "markdown",
   "metadata": {
    "colab_type": "text",
    "id": "6qKF1kRYKn2I"
   },
   "source": [
    "## How many sentences are there? "
   ]
  },
  {
   "cell_type": "code",
   "execution_count": 0,
   "metadata": {
    "colab": {
     "base_uri": "https://localhost:8080/",
     "height": 34
    },
    "colab_type": "code",
    "id": "BvsgGm6WpQg2",
    "outputId": "cfb9eff9-0484-48ab-c502-65d80dcecc8d"
   },
   "outputs": [
    {
     "data": {
      "text/plain": [
       "generator"
      ]
     },
     "execution_count": 167,
     "metadata": {
      "tags": []
     },
     "output_type": "execute_result"
    }
   ],
   "source": [
    "type(grail.sents)"
   ]
  },
  {
   "cell_type": "markdown",
   "metadata": {
    "colab_type": "text",
    "id": "Q4QRc35PuCES"
   },
   "source": [
    "## Side note: on generators\n",
    "\n",
    "Generators are functions that behave as iterators, i.e., you can iterate over them with a `for` loop, like you would with a list. But you can't index them. So this works: \n",
    "\n",
    "```python\n",
    "for sent in grailDoc.sents: \n",
    "  print(sent)\n",
    "```\n",
    "\n",
    "But not this: \n",
    "\n",
    "```python\n",
    "print(grailDoc.sents[0]) # Doesn't work\n",
    "```\n",
    "\n",
    "However, you can force a generator into a list, using `list()`, and then index it. So to get the first sentence of _Pride and Prejudice_, one could write:\n",
    "\n",
    "```python\n",
    "list(pride.sents)[0]\n",
    "```\n",
    "\n",
    "But actually if we just want the first one, we can do this: \n",
    "\n",
    "```python\n",
    "next(pride.sents)\n",
    "```\n",
    "\n",
    "## How many sentences are there in _Pride and Prejudice_? "
   ]
  },
  {
   "cell_type": "code",
   "execution_count": 50,
   "metadata": {
    "colab": {
     "base_uri": "https://localhost:8080/",
     "height": 34
    },
    "colab_type": "code",
    "id": "6zNgVuSaEM4s",
    "outputId": "8a1cbcc5-760e-4bdb-b2ee-e02456179294"
   },
   "outputs": [
    {
     "data": {
      "text/plain": [
       "5054"
      ]
     },
     "execution_count": 50,
     "metadata": {},
     "output_type": "execute_result"
    }
   ],
   "source": [
    "len(list(huck.sents))"
   ]
  },
  {
   "cell_type": "markdown",
   "metadata": {
    "colab_type": "text",
    "id": "ownHtIc6Eadq"
   },
   "source": [
    "## What's the longest sentence in _Pride and Prejudice_?"
   ]
  },
  {
   "cell_type": "code",
   "execution_count": 48,
   "metadata": {
    "colab": {
     "base_uri": "https://localhost:8080/",
     "height": 204
    },
    "colab_type": "code",
    "id": "-Sag9j9Zpigk",
    "outputId": "12590fcd-e759-4cce-a22d-0a98be4afb29"
   },
   "outputs": [
    {
     "data": {
      "text/plain": [
       "[The first thing to see, looking away over the water, was a kind of dull line—that was the woods on t’other side—you couldn’t make nothing else out; then a pale place in the sky; then more paleness, spreading around; then the river softened up, away off, and warn’t black any more, but gray; you could see little dark spots drifting along, ever so far away—trading scows, and such things; and long, black streaks—rafts; sometimes you could hear a sweep screaking; or jumbled up voices, it was so still, and sounds come so far; and by and by you could see a streak on the water which you know by the look of the streak that there’s a snag there in a swift current which breaks on it and makes that streak look that way; and you see the mist curl up off of the water, and the east reddens up, and the river, and you make out a log cabin in the edge of the woods, away on the bank on t’other side of the river, being a wood-yard, likely, and piled by them cheats so you can throw a dog through it anywheres; then the nice breeze springs up, and comes fanning you from over there, so cool and fresh, and sweet to smell, on account of the woods and the flowers; but sometimes not that way, because they’ve left dead fish laying around, gars, and such, and they do get pretty rank; and next you’ve got the full day, and everything smiling in the sun, and the song-birds just going it!\n",
       " ]"
      ]
     },
     "execution_count": 48,
     "metadata": {},
     "output_type": "execute_result"
    }
   ],
   "source": [
    "prideSentLengths = [len(sent) for sent in huck.sents]\n",
    "[sent for sent in huck.sents if len(sent) == max(prideSentLengths)]"
   ]
  },
  {
   "cell_type": "markdown",
   "metadata": {
    "colab_type": "text",
    "id": "hCk0PYCZJyTL"
   },
   "source": [
    "## What words appear more in exclamatory sentences? "
   ]
  },
  {
   "cell_type": "code",
   "execution_count": 49,
   "metadata": {
    "colab": {},
    "colab_type": "code",
    "id": "1dYeenVUGTbL"
   },
   "outputs": [],
   "source": [
    "excl = [sent for sent in huck.sents if '!' in sent.text]\n",
    "exclCounts = pd.Series(Counter([word.lemma_ for sent in excl for word in sent if not word.is_punct and not word.is_space]))\n",
    "noExcl = [sent for sent in huck.sents if '!' not in sent.text]\n",
    "noExclCounts = pd.Series(Counter([word.lemma_ for sent in noExcl for word in sent if not word.is_punct and not word.is_space]))"
   ]
  },
  {
   "cell_type": "code",
   "execution_count": 0,
   "metadata": {
    "colab": {
     "base_uri": "https://localhost:8080/",
     "height": 204
    },
    "colab_type": "code",
    "id": "pe7KRQyCJNJZ",
    "outputId": "58b66ac8-eb80-4c5f-d5cd-0a222eb6b59d"
   },
   "outputs": [
    {
     "data": {
      "text/plain": [
       "oh          79.0\n",
       "Heaven       9.0\n",
       "Lord         6.0\n",
       "gracious     4.0\n",
       "Good         3.0\n",
       "ah           3.0\n",
       "fun          2.0\n",
       "strange      2.0\n",
       "merry        1.0\n",
       "ankle        1.0\n",
       "dtype: float64"
      ]
     },
     "execution_count": 221,
     "metadata": {
      "tags": []
     },
     "output_type": "execute_result"
    }
   ],
   "source": [
    "(exclCounts - noExclCounts).sort_values(ascending=False).head(10)"
   ]
  },
  {
   "cell_type": "markdown",
   "metadata": {
    "colab_type": "text",
    "id": "nxwM7D4IK3RL"
   },
   "source": [
    "## Exploring properties of words (tokens)"
   ]
  },
  {
   "cell_type": "code",
   "execution_count": 0,
   "metadata": {
    "colab": {
     "base_uri": "https://localhost:8080/",
     "height": 34
    },
    "colab_type": "code",
    "id": "iDIWPQyrJteR",
    "outputId": "35063005-d139-40de-eecb-1f0feb421600"
   },
   "outputs": [
    {
     "data": {
      "text/plain": [
       "spacy.tokens.token.Token"
      ]
     },
     "execution_count": 222,
     "metadata": {
      "tags": []
     },
     "output_type": "execute_result"
    }
   ],
   "source": [
    "universally = prideDoc[4]\n",
    "type(universally)"
   ]
  },
  {
   "cell_type": "code",
   "execution_count": 0,
   "metadata": {
    "colab": {
     "base_uri": "https://localhost:8080/",
     "height": 1000
    },
    "colab_type": "code",
    "id": "isDW_cqDJ_jq",
    "outputId": "5854615e-0ac3-4d67-fe9d-726fe69a03f9"
   },
   "outputs": [
    {
     "data": {
      "text/plain": [
       "['_',\n",
       " 'ancestors',\n",
       " 'check_flag',\n",
       " 'children',\n",
       " 'cluster',\n",
       " 'conjuncts',\n",
       " 'dep',\n",
       " 'dep_',\n",
       " 'doc',\n",
       " 'ent_id',\n",
       " 'ent_id_',\n",
       " 'ent_iob',\n",
       " 'ent_iob_',\n",
       " 'ent_kb_id',\n",
       " 'ent_kb_id_',\n",
       " 'ent_type',\n",
       " 'ent_type_',\n",
       " 'get_extension',\n",
       " 'has_extension',\n",
       " 'has_vector',\n",
       " 'head',\n",
       " 'i',\n",
       " 'idx',\n",
       " 'is_alpha',\n",
       " 'is_ancestor',\n",
       " 'is_ascii',\n",
       " 'is_bracket',\n",
       " 'is_currency',\n",
       " 'is_digit',\n",
       " 'is_left_punct',\n",
       " 'is_lower',\n",
       " 'is_oov',\n",
       " 'is_punct',\n",
       " 'is_quote',\n",
       " 'is_right_punct',\n",
       " 'is_sent_start',\n",
       " 'is_space',\n",
       " 'is_stop',\n",
       " 'is_title',\n",
       " 'is_upper',\n",
       " 'lang',\n",
       " 'lang_',\n",
       " 'left_edge',\n",
       " 'lefts',\n",
       " 'lemma',\n",
       " 'lemma_',\n",
       " 'lex_id',\n",
       " 'like_email',\n",
       " 'like_num',\n",
       " 'like_url',\n",
       " 'lower',\n",
       " 'lower_',\n",
       " 'n_lefts',\n",
       " 'n_rights',\n",
       " 'nbor',\n",
       " 'norm',\n",
       " 'norm_',\n",
       " 'orth',\n",
       " 'orth_',\n",
       " 'pos',\n",
       " 'pos_',\n",
       " 'prefix',\n",
       " 'prefix_',\n",
       " 'prob',\n",
       " 'rank',\n",
       " 'remove_extension',\n",
       " 'right_edge',\n",
       " 'rights',\n",
       " 'sent',\n",
       " 'sent_start',\n",
       " 'sentiment',\n",
       " 'set_extension',\n",
       " 'shape',\n",
       " 'shape_',\n",
       " 'similarity',\n",
       " 'string',\n",
       " 'subtree',\n",
       " 'suffix',\n",
       " 'suffix_',\n",
       " 'tag',\n",
       " 'tag_',\n",
       " 'tensor',\n",
       " 'text',\n",
       " 'text_with_ws',\n",
       " 'vector',\n",
       " 'vector_norm',\n",
       " 'vocab',\n",
       " 'whitespace_']"
      ]
     },
     "execution_count": 70,
     "metadata": {
      "tags": []
     },
     "output_type": "execute_result"
    }
   ],
   "source": [
    "[prop for prop in dir(universally) if not prop.startswith('__')]"
   ]
  },
  {
   "cell_type": "code",
   "execution_count": 0,
   "metadata": {
    "colab": {
     "base_uri": "https://localhost:8080/",
     "height": 34
    },
    "colab_type": "code",
    "id": "XsycKBCMKdTI",
    "outputId": "ba03aac5-72e3-41fb-db77-6fb179bfefbe"
   },
   "outputs": [
    {
     "data": {
      "text/plain": [
       "(4, 15)"
      ]
     },
     "execution_count": 71,
     "metadata": {
      "tags": []
     },
     "output_type": "execute_result"
    }
   ],
   "source": [
    "universally.i, universally.idx"
   ]
  },
  {
   "cell_type": "code",
   "execution_count": 0,
   "metadata": {
    "colab": {
     "base_uri": "https://localhost:8080/",
     "height": 34
    },
    "colab_type": "code",
    "id": "R6Y2E3seim6w",
    "outputId": "2562e24b-d288-464b-d9bd-8dcf132bc71a"
   },
   "outputs": [
    {
     "data": {
      "text/plain": [
       "'u'"
      ]
     },
     "execution_count": 72,
     "metadata": {
      "tags": []
     },
     "output_type": "execute_result"
    }
   ],
   "source": [
    "universally.prefix_"
   ]
  },
  {
   "cell_type": "code",
   "execution_count": 0,
   "metadata": {
    "colab": {
     "base_uri": "https://localhost:8080/",
     "height": 34
    },
    "colab_type": "code",
    "id": "2BfmD-_KLUqG",
    "outputId": "3ec86736-4338-4e22-cabe-fcf8b7d07b8a"
   },
   "outputs": [
    {
     "data": {
      "text/plain": [
       "﻿It is a truth universally"
      ]
     },
     "execution_count": 73,
     "metadata": {
      "tags": []
     },
     "output_type": "execute_result"
    }
   ],
   "source": [
    "prideDoc[universally.sent_start:universally.i+1]"
   ]
  },
  {
   "cell_type": "code",
   "execution_count": 0,
   "metadata": {
    "colab": {
     "base_uri": "https://localhost:8080/",
     "height": 395
    },
    "colab_type": "code",
    "id": "4913OKHSPonC",
    "outputId": "59ba51ac-6a18-4d31-cdc0-30a7df97e45a"
   },
   "outputs": [
    {
     "data": {
      "text/plain": [
       "<matplotlib.axes._subplots.AxesSubplot at 0x7f962ea1f160>"
      ]
     },
     "execution_count": 74,
     "metadata": {
      "tags": []
     },
     "output_type": "execute_result"
    },
    {
     "data": {
      "image/png": "[encoded data removed]",
      "text/plain": [
       "<Figure size 864x432 with 1 Axes>"
      ]
     },
     "metadata": {
      "tags": []
     },
     "output_type": "display_data"
    }
   ],
   "source": [
    "pd.Series([word.i for word in prideDoc if word.text == 'love']).hist(figsize=(12,6))"
   ]
  },
  {
   "cell_type": "markdown",
   "metadata": {
    "colab_type": "text",
    "id": "46K46AtYjiYr"
   },
   "source": [
    "## Side note: on testing for word equality\n",
    "\n",
    "SpaCy tests equality of _tokens_ but not _types_. This means that a word that is orthographically identical to another isn't necessarily identical according to Python's equality (`==`) operator. For example: "
   ]
  },
  {
   "cell_type": "code",
   "execution_count": 0,
   "metadata": {
    "colab": {
     "base_uri": "https://localhost:8080/",
     "height": 34
    },
    "colab_type": "code",
    "id": "P-bpLfZMjPEJ",
    "outputId": "69323e45-80b7-4c31-85bf-03005686e380"
   },
   "outputs": [
    {
     "data": {
      "text/plain": [
       "True"
      ]
     },
     "execution_count": 75,
     "metadata": {
      "tags": []
     },
     "output_type": "execute_result"
    }
   ],
   "source": [
    "universally == universally"
   ]
  },
  {
   "cell_type": "code",
   "execution_count": 0,
   "metadata": {
    "colab": {
     "base_uri": "https://localhost:8080/",
     "height": 34
    },
    "colab_type": "code",
    "id": "jVDEcZSUjbHZ",
    "outputId": "332111ad-41b7-4096-f3c0-5e17671098fe"
   },
   "outputs": [
    {
     "data": {
      "text/plain": [
       "spacy.tokens.token.Token"
      ]
     },
     "execution_count": 77,
     "metadata": {
      "tags": []
     },
     "output_type": "execute_result"
    }
   ],
   "source": [
    "type(universally)"
   ]
  },
  {
   "cell_type": "code",
   "execution_count": 0,
   "metadata": {
    "colab": {},
    "colab_type": "code",
    "id": "1DEDTEqwjTzN"
   },
   "outputs": [],
   "source": [
    "anotherUniversally = nlp(\"universally\")[0]"
   ]
  },
  {
   "cell_type": "code",
   "execution_count": 0,
   "metadata": {
    "colab": {
     "base_uri": "https://localhost:8080/",
     "height": 34
    },
    "colab_type": "code",
    "id": "qD-MMBPQLlej",
    "outputId": "a8ac5446-3719-45fc-d02d-def17259bdf8"
   },
   "outputs": [
    {
     "data": {
      "text/plain": [
       "spacy.tokens.token.Token"
      ]
     },
     "execution_count": 224,
     "metadata": {
      "tags": []
     },
     "output_type": "execute_result"
    }
   ],
   "source": [
    "type(anotherUniversally)"
   ]
  },
  {
   "cell_type": "code",
   "execution_count": 0,
   "metadata": {
    "colab": {
     "base_uri": "https://localhost:8080/",
     "height": 34
    },
    "colab_type": "code",
    "id": "jiYuo5yZLobr",
    "outputId": "d97a7a61-7108-4f7a-8cb6-afa16585c0a8"
   },
   "outputs": [
    {
     "data": {
      "text/plain": [
       "False"
      ]
     },
     "execution_count": 225,
     "metadata": {
      "tags": []
     },
     "output_type": "execute_result"
    }
   ],
   "source": [
    "universally == anotherUniversally"
   ]
  },
  {
   "cell_type": "code",
   "execution_count": 0,
   "metadata": {
    "colab": {
     "base_uri": "https://localhost:8080/",
     "height": 34
    },
    "colab_type": "code",
    "id": "V7FqZNC6OArk",
    "outputId": "067af575-4ddf-44c1-bd38-4f80ea12bfd6"
   },
   "outputs": [
    {
     "data": {
      "text/plain": [
       "0"
      ]
     },
     "execution_count": 238,
     "metadata": {
      "tags": []
     },
     "output_type": "execute_result"
    }
   ],
   "source": [
    "universally.ent_type"
   ]
  },
  {
   "cell_type": "code",
   "execution_count": 0,
   "metadata": {
    "colab": {},
    "colab_type": "code",
    "id": "DLHViiEROtcR"
   },
   "outputs": [],
   "source": [
    "bennet = [w for w in pride if w.text == 'Bennet'][0]"
   ]
  },
  {
   "cell_type": "code",
   "execution_count": 0,
   "metadata": {
    "colab": {
     "base_uri": "https://localhost:8080/",
     "height": 34
    },
    "colab_type": "code",
    "id": "tYVsNUg4O0iE",
    "outputId": "b2415492-888d-48f3-c3e1-da44db4fd292"
   },
   "outputs": [
    {
     "data": {
      "text/plain": [
       "380"
      ]
     },
     "execution_count": 249,
     "metadata": {
      "tags": []
     },
     "output_type": "execute_result"
    }
   ],
   "source": [
    "bennet.ent_type"
   ]
  },
  {
   "cell_type": "markdown",
   "metadata": {
    "colab_type": "text",
    "id": "bGGM0XdAMVDA"
   },
   "source": [
    "## Word probability and rank\n",
    "\n",
    "SpaCy maintains data about word probabilities and word rank, according to what it's seen before in its training data. This can be useful for looking at certain slices of a text (its most frequent function words, or its lesser-frequent content words). \n",
    "\n",
    "**Warning:** This only seems to work with `en_core_web_md` and `en_core_web_lg`. "
   ]
  },
  {
   "cell_type": "code",
   "execution_count": 0,
   "metadata": {
    "colab": {
     "base_uri": "https://localhost:8080/",
     "height": 459
    },
    "colab_type": "code",
    "id": "l0r9RcWZjgzF",
    "outputId": "5aa20705-8207-4aa0-d648-e2313fe9db35"
   },
   "outputs": [
    {
     "data": {
      "text/plain": [
       "{('Bennet', 17058),\n",
       " ('Bingley', 19468),\n",
       " ('Impossible', 16582),\n",
       " ('Kitty', 16496),\n",
       " ('acquaintance', 19142),\n",
       " ('acquainted', 19142),\n",
       " ('chaise', 17220),\n",
       " ('coughing', 17603),\n",
       " ('coughs', 17603),\n",
       " ('delight', 19198),\n",
       " ('exclamation', 18862),\n",
       " ('honour', 15400),\n",
       " ('impatiently', 17909),\n",
       " ('insufficient', 16315),\n",
       " ('morrow', 15967),\n",
       " ('neices', 18507),\n",
       " ('neighbourhood', 17105),\n",
       " ('nieces', 18877),\n",
       " ('persuade', 16836),\n",
       " ('quickness', 19526),\n",
       " ('resentfully', 17755),\n",
       " ('scolding', 16154),\n",
       " ('servants', 15938),\n",
       " ('solace', 16404),\n",
       " ('tumult', 16065),\n",
       " ('vexing', 18170)}"
      ]
     },
     "execution_count": 244,
     "metadata": {
      "tags": []
     },
     "output_type": "execute_result"
    }
   ],
   "source": [
    "set([(w.text, w.rank) for w in pride[:2000] if w.rank > 15000 and w.ent_type == 0])"
   ]
  },
  {
   "cell_type": "code",
   "execution_count": 0,
   "metadata": {
    "colab": {
     "base_uri": "https://localhost:8080/",
     "height": 136
    },
    "colab_type": "code",
    "id": "-y-YfrkLiL2V",
    "outputId": "2e29a1ad-4cce-471d-b256-b6debd2bccc5"
   },
   "outputs": [
    {
     "name": "stdout",
     "output_type": "stream",
     "text": [
      "﻿It -20.0\n",
      "universally -12.210193634033203\n",
      "acknowledged -12.411476135253906\n",
      "possession -11.476877212524414\n",
      "\r\n",
      " -10.518562316894531\n",
      "fortune -12.021092414855957\n"
     ]
    }
   ],
   "source": [
    "for w in next(prideDoc.sents):\n",
    "  if w.prob < -10:\n",
    "    print(w, w.prob)"
   ]
  },
  {
   "cell_type": "code",
   "execution_count": 0,
   "metadata": {
    "colab": {},
    "colab_type": "code",
    "id": "T2uDb9BnMjoH"
   },
   "outputs": [],
   "source": []
  },
  {
   "cell_type": "markdown",
   "metadata": {
    "colab_type": "text",
    "id": "T9-eE8sPMkko"
   },
   "source": [
    "## Using word indices\n",
    "\n",
    "We can use the `.i` property to find the distribution of these words in \"narrative time,\" that is, an index of `1` would mean that it's the second word in the text. "
   ]
  },
  {
   "cell_type": "code",
   "execution_count": 0,
   "metadata": {
    "colab": {},
    "colab_type": "code",
    "id": "4GOecyGAQPNF"
   },
   "outputs": [],
   "source": [
    "def getIndices(w):\n",
    "  hist, bins = np.histogram(pd.Series([word.i for word in pride if word.text == w]), bins=50)\n",
    "  return hist"
   ]
  },
  {
   "cell_type": "code",
   "execution_count": 0,
   "metadata": {
    "colab": {},
    "colab_type": "code",
    "id": "Pakw2HRlYhFM"
   },
   "outputs": [],
   "source": [
    "wordList = ['love', 'hate', 'pride', 'prejudice']\n",
    "characterList = ['Darcy', 'Elizabeth', 'Jane', 'Bingley']\n",
    "wordIndices = [getIndices(w) for w in wordList]"
   ]
  },
  {
   "cell_type": "code",
   "execution_count": 0,
   "metadata": {
    "colab": {
     "base_uri": "https://localhost:8080/",
     "height": 555
    },
    "colab_type": "code",
    "id": "QMYnND9ZY9cZ",
    "outputId": "a7299ab6-87f4-4590-8114-548889aac496"
   },
   "outputs": [
    {
     "data": {
      "text/plain": [
       "array([<matplotlib.axes._subplots.AxesSubplot object at 0x7fddbcab6b00>,\n",
       "       <matplotlib.axes._subplots.AxesSubplot object at 0x7fddbc350630>,\n",
       "       <matplotlib.axes._subplots.AxesSubplot object at 0x7fde245c3358>,\n",
       "       <matplotlib.axes._subplots.AxesSubplot object at 0x7fddbc2fc9b0>],\n",
       "      dtype=object)"
      ]
     },
     "execution_count": 24,
     "metadata": {
      "tags": []
     },
     "output_type": "execute_result"
    },
    {
     "data": {
      "image/png": "[encoded data removed]",
      "text/plain": [
       "<Figure size 1008x576 with 4 Axes>"
      ]
     },
     "metadata": {
      "tags": []
     },
     "output_type": "display_data"
    }
   ],
   "source": [
    "wordsDF = pd.DataFrame(wordIndices, index=wordList).T\n",
    "wordsDF.plot(subplots=True, figsize=(14,8))"
   ]
  },
  {
   "cell_type": "markdown",
   "metadata": {
    "colab_type": "text",
    "id": "w_Ra1cp8tk0u"
   },
   "source": []
  },
  {
   "cell_type": "code",
   "execution_count": 0,
   "metadata": {
    "colab": {
     "base_uri": "https://localhost:8080/",
     "height": 124
    },
    "colab_type": "code",
    "id": "k8Gju1HDraiP",
    "outputId": "32a681f1-ddd0-4f65-ad68-f3bb15c5289d"
   },
   "outputs": [
    {
     "data": {
      "text/html": [
       "<style  type=\"text/css\" >\n",
       "    #T_3accb162_d966_11e9_a2c4_0242ac1c0002row0_col0 {\n",
       "            background-color:  #b40426;\n",
       "            color:  #f1f1f1;\n",
       "        }    #T_3accb162_d966_11e9_a2c4_0242ac1c0002row0_col1 {\n",
       "            background-color:  #3b4cc0;\n",
       "            color:  #f1f1f1;\n",
       "        }    #T_3accb162_d966_11e9_a2c4_0242ac1c0002row0_col2 {\n",
       "            background-color:  #3b4cc0;\n",
       "            color:  #f1f1f1;\n",
       "        }    #T_3accb162_d966_11e9_a2c4_0242ac1c0002row0_col3 {\n",
       "            background-color:  #94b6ff;\n",
       "            color:  #000000;\n",
       "        }    #T_3accb162_d966_11e9_a2c4_0242ac1c0002row1_col0 {\n",
       "            background-color:  #89acfd;\n",
       "            color:  #000000;\n",
       "        }    #T_3accb162_d966_11e9_a2c4_0242ac1c0002row1_col1 {\n",
       "            background-color:  #b40426;\n",
       "            color:  #f1f1f1;\n",
       "        }    #T_3accb162_d966_11e9_a2c4_0242ac1c0002row1_col2 {\n",
       "            background-color:  #94b6ff;\n",
       "            color:  #000000;\n",
       "        }    #T_3accb162_d966_11e9_a2c4_0242ac1c0002row1_col3 {\n",
       "            background-color:  #3b4cc0;\n",
       "            color:  #f1f1f1;\n",
       "        }    #T_3accb162_d966_11e9_a2c4_0242ac1c0002row2_col0 {\n",
       "            background-color:  #3b4cc0;\n",
       "            color:  #f1f1f1;\n",
       "        }    #T_3accb162_d966_11e9_a2c4_0242ac1c0002row2_col1 {\n",
       "            background-color:  #455cce;\n",
       "            color:  #f1f1f1;\n",
       "        }    #T_3accb162_d966_11e9_a2c4_0242ac1c0002row2_col2 {\n",
       "            background-color:  #b40426;\n",
       "            color:  #f1f1f1;\n",
       "        }    #T_3accb162_d966_11e9_a2c4_0242ac1c0002row2_col3 {\n",
       "            background-color:  #5b7ae5;\n",
       "            color:  #000000;\n",
       "        }    #T_3accb162_d966_11e9_a2c4_0242ac1c0002row3_col0 {\n",
       "            background-color:  #d4dbe6;\n",
       "            color:  #000000;\n",
       "        }    #T_3accb162_d966_11e9_a2c4_0242ac1c0002row3_col1 {\n",
       "            background-color:  #455cce;\n",
       "            color:  #f1f1f1;\n",
       "        }    #T_3accb162_d966_11e9_a2c4_0242ac1c0002row3_col2 {\n",
       "            background-color:  #aec9fc;\n",
       "            color:  #000000;\n",
       "        }    #T_3accb162_d966_11e9_a2c4_0242ac1c0002row3_col3 {\n",
       "            background-color:  #b40426;\n",
       "            color:  #f1f1f1;\n",
       "        }</style><table id=\"T_3accb162_d966_11e9_a2c4_0242ac1c0002\" ><thead>    <tr>        <th class=\"blank level0\" ></th>        <th class=\"col_heading level0 col0\" >Darcy</th>        <th class=\"col_heading level0 col1\" >Elizabeth</th>        <th class=\"col_heading level0 col2\" >Jane</th>        <th class=\"col_heading level0 col3\" >Bingley</th>    </tr></thead><tbody>\n",
       "                <tr>\n",
       "                        <th id=\"T_3accb162_d966_11e9_a2c4_0242ac1c0002level0_row0\" class=\"row_heading level0 row0\" >Darcy</th>\n",
       "                        <td id=\"T_3accb162_d966_11e9_a2c4_0242ac1c0002row0_col0\" class=\"data row0 col0\" >1</td>\n",
       "                        <td id=\"T_3accb162_d966_11e9_a2c4_0242ac1c0002row0_col1\" class=\"data row0 col1\" >0.048</td>\n",
       "                        <td id=\"T_3accb162_d966_11e9_a2c4_0242ac1c0002row0_col2\" class=\"data row0 col2\" >-0.25</td>\n",
       "                        <td id=\"T_3accb162_d966_11e9_a2c4_0242ac1c0002row0_col3\" class=\"data row0 col3\" >0.33</td>\n",
       "            </tr>\n",
       "            <tr>\n",
       "                        <th id=\"T_3accb162_d966_11e9_a2c4_0242ac1c0002level0_row1\" class=\"row_heading level0 row1\" >Elizabeth</th>\n",
       "                        <td id=\"T_3accb162_d966_11e9_a2c4_0242ac1c0002row1_col0\" class=\"data row1 col0\" >0.048</td>\n",
       "                        <td id=\"T_3accb162_d966_11e9_a2c4_0242ac1c0002row1_col1\" class=\"data row1 col1\" >1</td>\n",
       "                        <td id=\"T_3accb162_d966_11e9_a2c4_0242ac1c0002row1_col2\" class=\"data row1 col2\" >0.085</td>\n",
       "                        <td id=\"T_3accb162_d966_11e9_a2c4_0242ac1c0002row1_col3\" class=\"data row1 col3\" >0.082</td>\n",
       "            </tr>\n",
       "            <tr>\n",
       "                        <th id=\"T_3accb162_d966_11e9_a2c4_0242ac1c0002level0_row2\" class=\"row_heading level0 row2\" >Jane</th>\n",
       "                        <td id=\"T_3accb162_d966_11e9_a2c4_0242ac1c0002row2_col0\" class=\"data row2 col0\" >-0.25</td>\n",
       "                        <td id=\"T_3accb162_d966_11e9_a2c4_0242ac1c0002row2_col1\" class=\"data row2 col1\" >0.085</td>\n",
       "                        <td id=\"T_3accb162_d966_11e9_a2c4_0242ac1c0002row2_col2\" class=\"data row2 col2\" >1</td>\n",
       "                        <td id=\"T_3accb162_d966_11e9_a2c4_0242ac1c0002row2_col3\" class=\"data row2 col3\" >0.18</td>\n",
       "            </tr>\n",
       "            <tr>\n",
       "                        <th id=\"T_3accb162_d966_11e9_a2c4_0242ac1c0002level0_row3\" class=\"row_heading level0 row3\" >Bingley</th>\n",
       "                        <td id=\"T_3accb162_d966_11e9_a2c4_0242ac1c0002row3_col0\" class=\"data row3 col0\" >0.33</td>\n",
       "                        <td id=\"T_3accb162_d966_11e9_a2c4_0242ac1c0002row3_col1\" class=\"data row3 col1\" >0.082</td>\n",
       "                        <td id=\"T_3accb162_d966_11e9_a2c4_0242ac1c0002row3_col2\" class=\"data row3 col2\" >0.18</td>\n",
       "                        <td id=\"T_3accb162_d966_11e9_a2c4_0242ac1c0002row3_col3\" class=\"data row3 col3\" >1</td>\n",
       "            </tr>\n",
       "    </tbody></table>"
      ],
      "text/plain": [
       "<pandas.io.formats.style.Styler at 0x7f9610e61f98>"
      ]
     },
     "execution_count": 156,
     "metadata": {
      "tags": []
     },
     "output_type": "execute_result"
    }
   ],
   "source": [
    "wordsDF.corr().style.background_gradient(cmap='coolwarm').set_precision(2)"
   ]
  },
  {
   "cell_type": "code",
   "execution_count": 0,
   "metadata": {
    "colab": {},
    "colab_type": "code",
    "id": "XvYA9ckrlX-J"
   },
   "outputs": [],
   "source": [
    "def narrativeTime(w, text):\n",
    "  return np.histogram(pd.Series([word.i for word in text \n",
    "           if word.lemma_ == w]), 50)[0]\n",
    "\n",
    "def wordCorrelation(wordlist, text):\n",
    "  df = pd.DataFrame([narrativeTime(w, text)\n",
    "                 for w in wordlist], index=wordlist)\n",
    "  return df.T.corr().style.background_gradient(cmap='coolwarm')"
   ]
  },
  {
   "cell_type": "code",
   "execution_count": 0,
   "metadata": {
    "colab": {
     "base_uri": "https://localhost:8080/",
     "height": 126
    },
    "colab_type": "code",
    "id": "HoGe5btdlcAv",
    "outputId": "e1c2788b-658b-4e30-8ce8-6a096eb1f3cf"
   },
   "outputs": [
    {
     "data": {
      "text/html": [
       "<style  type=\"text/css\" >\n",
       "    #T_1bb3934e_d9cb_11e9_bec8_0242ac1c0002row0_col0 {\n",
       "            background-color:  #b40426;\n",
       "            color:  #f1f1f1;\n",
       "        }    #T_1bb3934e_d9cb_11e9_bec8_0242ac1c0002row0_col1 {\n",
       "            background-color:  #455cce;\n",
       "            color:  #f1f1f1;\n",
       "        }    #T_1bb3934e_d9cb_11e9_bec8_0242ac1c0002row0_col2 {\n",
       "            background-color:  #3b4cc0;\n",
       "            color:  #f1f1f1;\n",
       "        }    #T_1bb3934e_d9cb_11e9_bec8_0242ac1c0002row0_col3 {\n",
       "            background-color:  #5b7ae5;\n",
       "            color:  #000000;\n",
       "        }    #T_1bb3934e_d9cb_11e9_bec8_0242ac1c0002row1_col0 {\n",
       "            background-color:  #94b6ff;\n",
       "            color:  #000000;\n",
       "        }    #T_1bb3934e_d9cb_11e9_bec8_0242ac1c0002row1_col1 {\n",
       "            background-color:  #b40426;\n",
       "            color:  #f1f1f1;\n",
       "        }    #T_1bb3934e_d9cb_11e9_bec8_0242ac1c0002row1_col2 {\n",
       "            background-color:  #89acfd;\n",
       "            color:  #000000;\n",
       "        }    #T_1bb3934e_d9cb_11e9_bec8_0242ac1c0002row1_col3 {\n",
       "            background-color:  #3b4cc0;\n",
       "            color:  #f1f1f1;\n",
       "        }    #T_1bb3934e_d9cb_11e9_bec8_0242ac1c0002row2_col0 {\n",
       "            background-color:  #3b4cc0;\n",
       "            color:  #f1f1f1;\n",
       "        }    #T_1bb3934e_d9cb_11e9_bec8_0242ac1c0002row2_col1 {\n",
       "            background-color:  #3b4cc0;\n",
       "            color:  #f1f1f1;\n",
       "        }    #T_1bb3934e_d9cb_11e9_bec8_0242ac1c0002row2_col2 {\n",
       "            background-color:  #b40426;\n",
       "            color:  #f1f1f1;\n",
       "        }    #T_1bb3934e_d9cb_11e9_bec8_0242ac1c0002row2_col3 {\n",
       "            background-color:  #94b6ff;\n",
       "            color:  #000000;\n",
       "        }    #T_1bb3934e_d9cb_11e9_bec8_0242ac1c0002row3_col0 {\n",
       "            background-color:  #aec9fc;\n",
       "            color:  #000000;\n",
       "        }    #T_1bb3934e_d9cb_11e9_bec8_0242ac1c0002row3_col1 {\n",
       "            background-color:  #455cce;\n",
       "            color:  #f1f1f1;\n",
       "        }    #T_1bb3934e_d9cb_11e9_bec8_0242ac1c0002row3_col2 {\n",
       "            background-color:  #d4dbe6;\n",
       "            color:  #000000;\n",
       "        }    #T_1bb3934e_d9cb_11e9_bec8_0242ac1c0002row3_col3 {\n",
       "            background-color:  #b40426;\n",
       "            color:  #f1f1f1;\n",
       "        }</style><table id=\"T_1bb3934e_d9cb_11e9_bec8_0242ac1c0002\" ><thead>    <tr>        <th class=\"blank level0\" ></th>        <th class=\"col_heading level0 col0\" >Jane</th>        <th class=\"col_heading level0 col1\" >Elizabeth</th>        <th class=\"col_heading level0 col2\" >Darcy</th>        <th class=\"col_heading level0 col3\" >Bingley</th>    </tr></thead><tbody>\n",
       "                <tr>\n",
       "                        <th id=\"T_1bb3934e_d9cb_11e9_bec8_0242ac1c0002level0_row0\" class=\"row_heading level0 row0\" >Jane</th>\n",
       "                        <td id=\"T_1bb3934e_d9cb_11e9_bec8_0242ac1c0002row0_col0\" class=\"data row0 col0\" >1</td>\n",
       "                        <td id=\"T_1bb3934e_d9cb_11e9_bec8_0242ac1c0002row0_col1\" class=\"data row0 col1\" >0.0848585</td>\n",
       "                        <td id=\"T_1bb3934e_d9cb_11e9_bec8_0242ac1c0002row0_col2\" class=\"data row0 col2\" >-0.254558</td>\n",
       "                        <td id=\"T_1bb3934e_d9cb_11e9_bec8_0242ac1c0002row0_col3\" class=\"data row0 col3\" >0.180005</td>\n",
       "            </tr>\n",
       "            <tr>\n",
       "                        <th id=\"T_1bb3934e_d9cb_11e9_bec8_0242ac1c0002level0_row1\" class=\"row_heading level0 row1\" >Elizabeth</th>\n",
       "                        <td id=\"T_1bb3934e_d9cb_11e9_bec8_0242ac1c0002row1_col0\" class=\"data row1 col0\" >0.0848585</td>\n",
       "                        <td id=\"T_1bb3934e_d9cb_11e9_bec8_0242ac1c0002row1_col1\" class=\"data row1 col1\" >1</td>\n",
       "                        <td id=\"T_1bb3934e_d9cb_11e9_bec8_0242ac1c0002row1_col2\" class=\"data row1 col2\" >0.0479759</td>\n",
       "                        <td id=\"T_1bb3934e_d9cb_11e9_bec8_0242ac1c0002row1_col3\" class=\"data row1 col3\" >0.0818514</td>\n",
       "            </tr>\n",
       "            <tr>\n",
       "                        <th id=\"T_1bb3934e_d9cb_11e9_bec8_0242ac1c0002level0_row2\" class=\"row_heading level0 row2\" >Darcy</th>\n",
       "                        <td id=\"T_1bb3934e_d9cb_11e9_bec8_0242ac1c0002row2_col0\" class=\"data row2 col0\" >-0.254558</td>\n",
       "                        <td id=\"T_1bb3934e_d9cb_11e9_bec8_0242ac1c0002row2_col1\" class=\"data row2 col1\" >0.0479759</td>\n",
       "                        <td id=\"T_1bb3934e_d9cb_11e9_bec8_0242ac1c0002row2_col2\" class=\"data row2 col2\" >1</td>\n",
       "                        <td id=\"T_1bb3934e_d9cb_11e9_bec8_0242ac1c0002row2_col3\" class=\"data row2 col3\" >0.330308</td>\n",
       "            </tr>\n",
       "            <tr>\n",
       "                        <th id=\"T_1bb3934e_d9cb_11e9_bec8_0242ac1c0002level0_row3\" class=\"row_heading level0 row3\" >Bingley</th>\n",
       "                        <td id=\"T_1bb3934e_d9cb_11e9_bec8_0242ac1c0002row3_col0\" class=\"data row3 col0\" >0.180005</td>\n",
       "                        <td id=\"T_1bb3934e_d9cb_11e9_bec8_0242ac1c0002row3_col1\" class=\"data row3 col1\" >0.0818514</td>\n",
       "                        <td id=\"T_1bb3934e_d9cb_11e9_bec8_0242ac1c0002row3_col2\" class=\"data row3 col2\" >0.330308</td>\n",
       "                        <td id=\"T_1bb3934e_d9cb_11e9_bec8_0242ac1c0002row3_col3\" class=\"data row3 col3\" >1</td>\n",
       "            </tr>\n",
       "    </tbody></table>"
      ],
      "text/plain": [
       "<pandas.io.formats.style.Styler at 0x7fddb9a13b70>"
      ]
     },
     "execution_count": 28,
     "metadata": {
      "tags": []
     },
     "output_type": "execute_result"
    }
   ],
   "source": [
    "wordCorrelation(['Jane', 'Elizabeth', 'Darcy', 'Bingley'], \n",
    "                pride)"
   ]
  },
  {
   "cell_type": "markdown",
   "metadata": {
    "colab_type": "text",
    "id": "180sXwcyM6UT"
   },
   "source": [
    "## Exploring named entities"
   ]
  },
  {
   "cell_type": "code",
   "execution_count": 0,
   "metadata": {
    "colab": {
     "base_uri": "https://localhost:8080/",
     "height": 306
    },
    "colab_type": "code",
    "id": "q_t42ZAMlwRK",
    "outputId": "46bab034-b5db-4e9b-e15c-df3293aa529f"
   },
   "outputs": [
    {
     "data": {
      "text/plain": [
       "{'CARDINAL',\n",
       " 'DATE',\n",
       " 'EVENT',\n",
       " 'FAC',\n",
       " 'GPE',\n",
       " 'LANGUAGE',\n",
       " 'LAW',\n",
       " 'LOC',\n",
       " 'MONEY',\n",
       " 'NORP',\n",
       " 'ORDINAL',\n",
       " 'ORG',\n",
       " 'PERSON',\n",
       " 'PRODUCT',\n",
       " 'QUANTITY',\n",
       " 'TIME',\n",
       " 'WORK_OF_ART'}"
      ]
     },
     "execution_count": 250,
     "metadata": {
      "tags": []
     },
     "output_type": "execute_result"
    }
   ],
   "source": [
    "set([w.label_ for w in grailDoc.ents])"
   ]
  },
  {
   "cell_type": "code",
   "execution_count": 0,
   "metadata": {
    "colab": {
     "base_uri": "https://localhost:8080/",
     "height": 207
    },
    "colab_type": "code",
    "id": "IGWWzw0Cxnyr",
    "outputId": "842a5a70-4e88-4494-a422-acf6c5dbf73d"
   },
   "outputs": [
    {
     "data": {
      "text/plain": [
       "[The Tale of Sir Robin.  ,\n",
       " The Castle Anthrax?,\n",
       " Oh, wicked, wicked Zoot.  ,\n",
       " HEAD KNIGHT: I cannot tell, suffice to say is one of the words the Knights of Ni cannot hear.,\n",
       " Consult the Book of Armaments!,\n",
       " Once the number three, being the third number, be reached, then lobbest thou thy Holy Hand Grenade of Antioch towards thy foe, who, being naughty in my sight, shall snuff it.',\n",
       " It's Aramaic!,\n",
       " It's the legendary Black Beast of Aaauugh!,\n",
       " [Black Beast of Aaauugh eats BROTHER MAYNARD] ,\n",
       " As the horrendous Black Beast lunged forward, escape for Arthur and his knights seemed hopeless, when suddenly, the animator suffered a fatal heart attack.]"
      ]
     },
     "execution_count": 150,
     "metadata": {
      "tags": []
     },
     "output_type": "execute_result"
    }
   ],
   "source": [
    "entSents = [ent.sent for ent in grailDoc.ents if ent.label_ == 'WORK_OF_ART']\n",
    "entSents"
   ]
  },
  {
   "cell_type": "markdown",
   "metadata": {
    "colab_type": "text",
    "id": "PqvVCe-M9Spw"
   },
   "source": []
  },
  {
   "cell_type": "code",
   "execution_count": 0,
   "metadata": {
    "colab": {
     "base_uri": "https://localhost:8080/",
     "height": 52
    },
    "colab_type": "code",
    "id": "Te5HAuSq819k",
    "outputId": "4e8c8eaa-999a-4f3a-c86f-66074d077d4f"
   },
   "outputs": [
    {
     "data": {
      "text/html": [
       "<div class=\"entities\" style=\"line-height: 2.5; direction: ltr\">Consult \n",
       "<mark class=\"entity\" style=\"background: #f0d0ff; padding: 0.45em 0.6em; margin: 0 0.25em; line-height: 1; border-radius: 0.35em; box-decoration-break: clone; -webkit-box-decoration-break: clone\">\n",
       "    the Book of Armaments\n",
       "    <span style=\"font-size: 0.8em; font-weight: bold; line-height: 1; border-radius: 0.35em; text-transform: uppercase; vertical-align: middle; margin-left: 0.5rem\">WORK_OF_ART</span>\n",
       "</mark>\n",
       "!\n",
       "</div>"
      ],
      "text/plain": [
       "<IPython.core.display.HTML object>"
      ]
     },
     "metadata": {
      "tags": []
     },
     "output_type": "display_data"
    }
   ],
   "source": [
    "spacy.displacy.render(entSents[4], style='ent', jupyter=True)"
   ]
  },
  {
   "cell_type": "markdown",
   "metadata": {
    "colab_type": "text",
    "id": "tnv8EFnhNFDp"
   },
   "source": [
    "## Parts of speech\n",
    "\n",
    "### Get the first fifty nouns in _Pride and Prejudice_"
   ]
  },
  {
   "cell_type": "code",
   "execution_count": 0,
   "metadata": {
    "colab": {
     "base_uri": "https://localhost:8080/",
     "height": 54
    },
    "colab_type": "code",
    "id": "KmOYJoGaNIQt",
    "outputId": "15ec033f-6a53-45df-ad0a-d8af04a2aa15"
   },
   "outputs": [
    {
     "name": "stdout",
     "output_type": "stream",
     "text": [
      "[truth, man, possession, fortune, want, wife, feelings, views, man, neighbourhood, truth, minds, families, property, daughters, lady, day, answer, wife, objection, invitation, dear, man, fortune, north, chaise, place, possession, servants, house, end, week, name, dear, man, fortune, year, thing, girls, wife, design, Nonsense, _, love, occasion, girls, party, dear, share, beauty]\n"
     ]
    }
   ],
   "source": [
    "print([w for w in pride if w.pos_ == 'NOUN'][:50])"
   ]
  },
  {
   "cell_type": "markdown",
   "metadata": {
    "colab_type": "text",
    "id": "yebXQk35Q-in"
   },
   "source": [
    "## Dependency Parsing"
   ]
  },
  {
   "cell_type": "code",
   "execution_count": 0,
   "metadata": {
    "colab": {
     "base_uri": "https://localhost:8080/",
     "height": 703
    },
    "colab_type": "code",
    "id": "Y7c_T7Ovxu7R",
    "outputId": "6a3ac243-c56d-4a29-9466-601cdf326b63"
   },
   "outputs": [
    {
     "data": {
      "text/html": [
       "<svg xmlns=\"http://www.w3.org/2000/svg\" xmlns:xlink=\"http://www.w3.org/1999/xlink\" xml:lang=\"en\" id=\"462f6de661834683b84d6cfb3c8238f9-0\" class=\"displacy\" width=\"2900\" height=\"662.0\" direction=\"ltr\" style=\"max-width: none; height: 662.0px; color: #000000; background: #ffffff; font-family: Arial; direction: ltr\">\n",
       "<text class=\"displacy-token\" fill=\"currentColor\" text-anchor=\"middle\" y=\"572.0\">\n",
       "    <tspan class=\"displacy-word\" fill=\"currentColor\" x=\"50\">﻿It</tspan>\n",
       "    <tspan class=\"displacy-tag\" dy=\"2em\" fill=\"currentColor\" x=\"50\">PROPN</tspan>\n",
       "</text>\n",
       "\n",
       "<text class=\"displacy-token\" fill=\"currentColor\" text-anchor=\"middle\" y=\"572.0\">\n",
       "    <tspan class=\"displacy-word\" fill=\"currentColor\" x=\"200\">is</tspan>\n",
       "    <tspan class=\"displacy-tag\" dy=\"2em\" fill=\"currentColor\" x=\"200\">VERB</tspan>\n",
       "</text>\n",
       "\n",
       "<text class=\"displacy-token\" fill=\"currentColor\" text-anchor=\"middle\" y=\"572.0\">\n",
       "    <tspan class=\"displacy-word\" fill=\"currentColor\" x=\"350\">a truth</tspan>\n",
       "    <tspan class=\"displacy-tag\" dy=\"2em\" fill=\"currentColor\" x=\"350\">NOUN</tspan>\n",
       "</text>\n",
       "\n",
       "<text class=\"displacy-token\" fill=\"currentColor\" text-anchor=\"middle\" y=\"572.0\">\n",
       "    <tspan class=\"displacy-word\" fill=\"currentColor\" x=\"500\">universally</tspan>\n",
       "    <tspan class=\"displacy-tag\" dy=\"2em\" fill=\"currentColor\" x=\"500\">ADV</tspan>\n",
       "</text>\n",
       "\n",
       "<text class=\"displacy-token\" fill=\"currentColor\" text-anchor=\"middle\" y=\"572.0\">\n",
       "    <tspan class=\"displacy-word\" fill=\"currentColor\" x=\"650\">acknowledged,</tspan>\n",
       "    <tspan class=\"displacy-tag\" dy=\"2em\" fill=\"currentColor\" x=\"650\">VERB</tspan>\n",
       "</text>\n",
       "\n",
       "<text class=\"displacy-token\" fill=\"currentColor\" text-anchor=\"middle\" y=\"572.0\">\n",
       "    <tspan class=\"displacy-word\" fill=\"currentColor\" x=\"800\">that</tspan>\n",
       "    <tspan class=\"displacy-tag\" dy=\"2em\" fill=\"currentColor\" x=\"800\">ADP</tspan>\n",
       "</text>\n",
       "\n",
       "<text class=\"displacy-token\" fill=\"currentColor\" text-anchor=\"middle\" y=\"572.0\">\n",
       "    <tspan class=\"displacy-word\" fill=\"currentColor\" x=\"950\">a single man</tspan>\n",
       "    <tspan class=\"displacy-tag\" dy=\"2em\" fill=\"currentColor\" x=\"950\">NOUN</tspan>\n",
       "</text>\n",
       "\n",
       "<text class=\"displacy-token\" fill=\"currentColor\" text-anchor=\"middle\" y=\"572.0\">\n",
       "    <tspan class=\"displacy-word\" fill=\"currentColor\" x=\"1100\">in</tspan>\n",
       "    <tspan class=\"displacy-tag\" dy=\"2em\" fill=\"currentColor\" x=\"1100\">ADP</tspan>\n",
       "</text>\n",
       "\n",
       "<text class=\"displacy-token\" fill=\"currentColor\" text-anchor=\"middle\" y=\"572.0\">\n",
       "    <tspan class=\"displacy-word\" fill=\"currentColor\" x=\"1250\">possession</tspan>\n",
       "    <tspan class=\"displacy-tag\" dy=\"2em\" fill=\"currentColor\" x=\"1250\">NOUN</tspan>\n",
       "</text>\n",
       "\n",
       "<text class=\"displacy-token\" fill=\"currentColor\" text-anchor=\"middle\" y=\"572.0\">\n",
       "    <tspan class=\"displacy-word\" fill=\"currentColor\" x=\"1400\">\r\n",
       "</tspan>\n",
       "    <tspan class=\"displacy-tag\" dy=\"2em\" fill=\"currentColor\" x=\"1400\">SPACE</tspan>\n",
       "</text>\n",
       "\n",
       "<text class=\"displacy-token\" fill=\"currentColor\" text-anchor=\"middle\" y=\"572.0\">\n",
       "    <tspan class=\"displacy-word\" fill=\"currentColor\" x=\"1550\">of</tspan>\n",
       "    <tspan class=\"displacy-tag\" dy=\"2em\" fill=\"currentColor\" x=\"1550\">ADP</tspan>\n",
       "</text>\n",
       "\n",
       "<text class=\"displacy-token\" fill=\"currentColor\" text-anchor=\"middle\" y=\"572.0\">\n",
       "    <tspan class=\"displacy-word\" fill=\"currentColor\" x=\"1700\">a good fortune,</tspan>\n",
       "    <tspan class=\"displacy-tag\" dy=\"2em\" fill=\"currentColor\" x=\"1700\">NOUN</tspan>\n",
       "</text>\n",
       "\n",
       "<text class=\"displacy-token\" fill=\"currentColor\" text-anchor=\"middle\" y=\"572.0\">\n",
       "    <tspan class=\"displacy-word\" fill=\"currentColor\" x=\"1850\">must</tspan>\n",
       "    <tspan class=\"displacy-tag\" dy=\"2em\" fill=\"currentColor\" x=\"1850\">VERB</tspan>\n",
       "</text>\n",
       "\n",
       "<text class=\"displacy-token\" fill=\"currentColor\" text-anchor=\"middle\" y=\"572.0\">\n",
       "    <tspan class=\"displacy-word\" fill=\"currentColor\" x=\"2000\">be</tspan>\n",
       "    <tspan class=\"displacy-tag\" dy=\"2em\" fill=\"currentColor\" x=\"2000\">VERB</tspan>\n",
       "</text>\n",
       "\n",
       "<text class=\"displacy-token\" fill=\"currentColor\" text-anchor=\"middle\" y=\"572.0\">\n",
       "    <tspan class=\"displacy-word\" fill=\"currentColor\" x=\"2150\">in</tspan>\n",
       "    <tspan class=\"displacy-tag\" dy=\"2em\" fill=\"currentColor\" x=\"2150\">ADP</tspan>\n",
       "</text>\n",
       "\n",
       "<text class=\"displacy-token\" fill=\"currentColor\" text-anchor=\"middle\" y=\"572.0\">\n",
       "    <tspan class=\"displacy-word\" fill=\"currentColor\" x=\"2300\">want</tspan>\n",
       "    <tspan class=\"displacy-tag\" dy=\"2em\" fill=\"currentColor\" x=\"2300\">NOUN</tspan>\n",
       "</text>\n",
       "\n",
       "<text class=\"displacy-token\" fill=\"currentColor\" text-anchor=\"middle\" y=\"572.0\">\n",
       "    <tspan class=\"displacy-word\" fill=\"currentColor\" x=\"2450\">of</tspan>\n",
       "    <tspan class=\"displacy-tag\" dy=\"2em\" fill=\"currentColor\" x=\"2450\">ADP</tspan>\n",
       "</text>\n",
       "\n",
       "<text class=\"displacy-token\" fill=\"currentColor\" text-anchor=\"middle\" y=\"572.0\">\n",
       "    <tspan class=\"displacy-word\" fill=\"currentColor\" x=\"2600\">a wife.</tspan>\n",
       "    <tspan class=\"displacy-tag\" dy=\"2em\" fill=\"currentColor\" x=\"2600\">NOUN</tspan>\n",
       "</text>\n",
       "\n",
       "<text class=\"displacy-token\" fill=\"currentColor\" text-anchor=\"middle\" y=\"572.0\">\n",
       "    <tspan class=\"displacy-word\" fill=\"currentColor\" x=\"2750\">\r\n",
       "\r\n",
       "</tspan>\n",
       "    <tspan class=\"displacy-tag\" dy=\"2em\" fill=\"currentColor\" x=\"2750\">SPACE</tspan>\n",
       "</text>\n",
       "\n",
       "<g class=\"displacy-arrow\">\n",
       "    <path class=\"displacy-arc\" id=\"arrow-462f6de661834683b84d6cfb3c8238f9-0-0\" stroke-width=\"2px\" d=\"M62,527.0 62,502.0 182.0,502.0 182.0,527.0\" fill=\"none\" stroke=\"currentColor\"/>\n",
       "    <text dy=\"1.25em\" style=\"font-size: 0.8em; letter-spacing: 1px\">\n",
       "        <textPath xlink:href=\"#arrow-462f6de661834683b84d6cfb3c8238f9-0-0\" class=\"displacy-label\" startOffset=\"50%\" side=\"left\" fill=\"currentColor\" text-anchor=\"middle\">nsubj</textPath>\n",
       "    </text>\n",
       "    <path class=\"displacy-arrowhead\" d=\"M62,529.0 L58,521.0 66,521.0\" fill=\"currentColor\"/>\n",
       "</g>\n",
       "\n",
       "<g class=\"displacy-arrow\">\n",
       "    <path class=\"displacy-arc\" id=\"arrow-462f6de661834683b84d6cfb3c8238f9-0-1\" stroke-width=\"2px\" d=\"M212,527.0 212,502.0 332.0,502.0 332.0,527.0\" fill=\"none\" stroke=\"currentColor\"/>\n",
       "    <text dy=\"1.25em\" style=\"font-size: 0.8em; letter-spacing: 1px\">\n",
       "        <textPath xlink:href=\"#arrow-462f6de661834683b84d6cfb3c8238f9-0-1\" class=\"displacy-label\" startOffset=\"50%\" side=\"left\" fill=\"currentColor\" text-anchor=\"middle\">attr</textPath>\n",
       "    </text>\n",
       "    <path class=\"displacy-arrowhead\" d=\"M332.0,529.0 L336.0,521.0 328.0,521.0\" fill=\"currentColor\"/>\n",
       "</g>\n",
       "\n",
       "<g class=\"displacy-arrow\">\n",
       "    <path class=\"displacy-arc\" id=\"arrow-462f6de661834683b84d6cfb3c8238f9-0-2\" stroke-width=\"2px\" d=\"M512,527.0 512,502.0 632.0,502.0 632.0,527.0\" fill=\"none\" stroke=\"currentColor\"/>\n",
       "    <text dy=\"1.25em\" style=\"font-size: 0.8em; letter-spacing: 1px\">\n",
       "        <textPath xlink:href=\"#arrow-462f6de661834683b84d6cfb3c8238f9-0-2\" class=\"displacy-label\" startOffset=\"50%\" side=\"left\" fill=\"currentColor\" text-anchor=\"middle\">advmod</textPath>\n",
       "    </text>\n",
       "    <path class=\"displacy-arrowhead\" d=\"M512,529.0 L508,521.0 516,521.0\" fill=\"currentColor\"/>\n",
       "</g>\n",
       "\n",
       "<g class=\"displacy-arrow\">\n",
       "    <path class=\"displacy-arc\" id=\"arrow-462f6de661834683b84d6cfb3c8238f9-0-3\" stroke-width=\"2px\" d=\"M362,527.0 362,477.0 635.0,477.0 635.0,527.0\" fill=\"none\" stroke=\"currentColor\"/>\n",
       "    <text dy=\"1.25em\" style=\"font-size: 0.8em; letter-spacing: 1px\">\n",
       "        <textPath xlink:href=\"#arrow-462f6de661834683b84d6cfb3c8238f9-0-3\" class=\"displacy-label\" startOffset=\"50%\" side=\"left\" fill=\"currentColor\" text-anchor=\"middle\">acl</textPath>\n",
       "    </text>\n",
       "    <path class=\"displacy-arrowhead\" d=\"M635.0,529.0 L639.0,521.0 631.0,521.0\" fill=\"currentColor\"/>\n",
       "</g>\n",
       "\n",
       "<g class=\"displacy-arrow\">\n",
       "    <path class=\"displacy-arc\" id=\"arrow-462f6de661834683b84d6cfb3c8238f9-0-4\" stroke-width=\"2px\" d=\"M812,527.0 812,402.0 1994.0,402.0 1994.0,527.0\" fill=\"none\" stroke=\"currentColor\"/>\n",
       "    <text dy=\"1.25em\" style=\"font-size: 0.8em; letter-spacing: 1px\">\n",
       "        <textPath xlink:href=\"#arrow-462f6de661834683b84d6cfb3c8238f9-0-4\" class=\"displacy-label\" startOffset=\"50%\" side=\"left\" fill=\"currentColor\" text-anchor=\"middle\">mark</textPath>\n",
       "    </text>\n",
       "    <path class=\"displacy-arrowhead\" d=\"M812,529.0 L808,521.0 816,521.0\" fill=\"currentColor\"/>\n",
       "</g>\n",
       "\n",
       "<g class=\"displacy-arrow\">\n",
       "    <path class=\"displacy-arc\" id=\"arrow-462f6de661834683b84d6cfb3c8238f9-0-5\" stroke-width=\"2px\" d=\"M962,527.0 962,427.0 1991.0,427.0 1991.0,527.0\" fill=\"none\" stroke=\"currentColor\"/>\n",
       "    <text dy=\"1.25em\" style=\"font-size: 0.8em; letter-spacing: 1px\">\n",
       "        <textPath xlink:href=\"#arrow-462f6de661834683b84d6cfb3c8238f9-0-5\" class=\"displacy-label\" startOffset=\"50%\" side=\"left\" fill=\"currentColor\" text-anchor=\"middle\">nsubj</textPath>\n",
       "    </text>\n",
       "    <path class=\"displacy-arrowhead\" d=\"M962,529.0 L958,521.0 966,521.0\" fill=\"currentColor\"/>\n",
       "</g>\n",
       "\n",
       "<g class=\"displacy-arrow\">\n",
       "    <path class=\"displacy-arc\" id=\"arrow-462f6de661834683b84d6cfb3c8238f9-0-6\" stroke-width=\"2px\" d=\"M962,527.0 962,502.0 1082.0,502.0 1082.0,527.0\" fill=\"none\" stroke=\"currentColor\"/>\n",
       "    <text dy=\"1.25em\" style=\"font-size: 0.8em; letter-spacing: 1px\">\n",
       "        <textPath xlink:href=\"#arrow-462f6de661834683b84d6cfb3c8238f9-0-6\" class=\"displacy-label\" startOffset=\"50%\" side=\"left\" fill=\"currentColor\" text-anchor=\"middle\">prep</textPath>\n",
       "    </text>\n",
       "    <path class=\"displacy-arrowhead\" d=\"M1082.0,529.0 L1086.0,521.0 1078.0,521.0\" fill=\"currentColor\"/>\n",
       "</g>\n",
       "\n",
       "<g class=\"displacy-arrow\">\n",
       "    <path class=\"displacy-arc\" id=\"arrow-462f6de661834683b84d6cfb3c8238f9-0-7\" stroke-width=\"2px\" d=\"M1112,527.0 1112,502.0 1232.0,502.0 1232.0,527.0\" fill=\"none\" stroke=\"currentColor\"/>\n",
       "    <text dy=\"1.25em\" style=\"font-size: 0.8em; letter-spacing: 1px\">\n",
       "        <textPath xlink:href=\"#arrow-462f6de661834683b84d6cfb3c8238f9-0-7\" class=\"displacy-label\" startOffset=\"50%\" side=\"left\" fill=\"currentColor\" text-anchor=\"middle\">pobj</textPath>\n",
       "    </text>\n",
       "    <path class=\"displacy-arrowhead\" d=\"M1232.0,529.0 L1236.0,521.0 1228.0,521.0\" fill=\"currentColor\"/>\n",
       "</g>\n",
       "\n",
       "<g class=\"displacy-arrow\">\n",
       "    <path class=\"displacy-arc\" id=\"arrow-462f6de661834683b84d6cfb3c8238f9-0-8\" stroke-width=\"2px\" d=\"M1262,527.0 1262,502.0 1382.0,502.0 1382.0,527.0\" fill=\"none\" stroke=\"currentColor\"/>\n",
       "    <text dy=\"1.25em\" style=\"font-size: 0.8em; letter-spacing: 1px\">\n",
       "        <textPath xlink:href=\"#arrow-462f6de661834683b84d6cfb3c8238f9-0-8\" class=\"displacy-label\" startOffset=\"50%\" side=\"left\" fill=\"currentColor\" text-anchor=\"middle\"></textPath>\n",
       "    </text>\n",
       "    <path class=\"displacy-arrowhead\" d=\"M1382.0,529.0 L1386.0,521.0 1378.0,521.0\" fill=\"currentColor\"/>\n",
       "</g>\n",
       "\n",
       "<g class=\"displacy-arrow\">\n",
       "    <path class=\"displacy-arc\" id=\"arrow-462f6de661834683b84d6cfb3c8238f9-0-9\" stroke-width=\"2px\" d=\"M962,527.0 962,452.0 1538.0,452.0 1538.0,527.0\" fill=\"none\" stroke=\"currentColor\"/>\n",
       "    <text dy=\"1.25em\" style=\"font-size: 0.8em; letter-spacing: 1px\">\n",
       "        <textPath xlink:href=\"#arrow-462f6de661834683b84d6cfb3c8238f9-0-9\" class=\"displacy-label\" startOffset=\"50%\" side=\"left\" fill=\"currentColor\" text-anchor=\"middle\">prep</textPath>\n",
       "    </text>\n",
       "    <path class=\"displacy-arrowhead\" d=\"M1538.0,529.0 L1542.0,521.0 1534.0,521.0\" fill=\"currentColor\"/>\n",
       "</g>\n",
       "\n",
       "<g class=\"displacy-arrow\">\n",
       "    <path class=\"displacy-arc\" id=\"arrow-462f6de661834683b84d6cfb3c8238f9-0-10\" stroke-width=\"2px\" d=\"M1562,527.0 1562,502.0 1682.0,502.0 1682.0,527.0\" fill=\"none\" stroke=\"currentColor\"/>\n",
       "    <text dy=\"1.25em\" style=\"font-size: 0.8em; letter-spacing: 1px\">\n",
       "        <textPath xlink:href=\"#arrow-462f6de661834683b84d6cfb3c8238f9-0-10\" class=\"displacy-label\" startOffset=\"50%\" side=\"left\" fill=\"currentColor\" text-anchor=\"middle\">pobj</textPath>\n",
       "    </text>\n",
       "    <path class=\"displacy-arrowhead\" d=\"M1682.0,529.0 L1686.0,521.0 1678.0,521.0\" fill=\"currentColor\"/>\n",
       "</g>\n",
       "\n",
       "<g class=\"displacy-arrow\">\n",
       "    <path class=\"displacy-arc\" id=\"arrow-462f6de661834683b84d6cfb3c8238f9-0-11\" stroke-width=\"2px\" d=\"M1862,527.0 1862,502.0 1982.0,502.0 1982.0,527.0\" fill=\"none\" stroke=\"currentColor\"/>\n",
       "    <text dy=\"1.25em\" style=\"font-size: 0.8em; letter-spacing: 1px\">\n",
       "        <textPath xlink:href=\"#arrow-462f6de661834683b84d6cfb3c8238f9-0-11\" class=\"displacy-label\" startOffset=\"50%\" side=\"left\" fill=\"currentColor\" text-anchor=\"middle\">aux</textPath>\n",
       "    </text>\n",
       "    <path class=\"displacy-arrowhead\" d=\"M1862,529.0 L1858,521.0 1866,521.0\" fill=\"currentColor\"/>\n",
       "</g>\n",
       "\n",
       "<g class=\"displacy-arrow\">\n",
       "    <path class=\"displacy-arc\" id=\"arrow-462f6de661834683b84d6cfb3c8238f9-0-12\" stroke-width=\"2px\" d=\"M362,527.0 362,377.0 1997.0,377.0 1997.0,527.0\" fill=\"none\" stroke=\"currentColor\"/>\n",
       "    <text dy=\"1.25em\" style=\"font-size: 0.8em; letter-spacing: 1px\">\n",
       "        <textPath xlink:href=\"#arrow-462f6de661834683b84d6cfb3c8238f9-0-12\" class=\"displacy-label\" startOffset=\"50%\" side=\"left\" fill=\"currentColor\" text-anchor=\"middle\">acl</textPath>\n",
       "    </text>\n",
       "    <path class=\"displacy-arrowhead\" d=\"M1997.0,529.0 L2001.0,521.0 1993.0,521.0\" fill=\"currentColor\"/>\n",
       "</g>\n",
       "\n",
       "<g class=\"displacy-arrow\">\n",
       "    <path class=\"displacy-arc\" id=\"arrow-462f6de661834683b84d6cfb3c8238f9-0-13\" stroke-width=\"2px\" d=\"M2012,527.0 2012,502.0 2132.0,502.0 2132.0,527.0\" fill=\"none\" stroke=\"currentColor\"/>\n",
       "    <text dy=\"1.25em\" style=\"font-size: 0.8em; letter-spacing: 1px\">\n",
       "        <textPath xlink:href=\"#arrow-462f6de661834683b84d6cfb3c8238f9-0-13\" class=\"displacy-label\" startOffset=\"50%\" side=\"left\" fill=\"currentColor\" text-anchor=\"middle\">prep</textPath>\n",
       "    </text>\n",
       "    <path class=\"displacy-arrowhead\" d=\"M2132.0,529.0 L2136.0,521.0 2128.0,521.0\" fill=\"currentColor\"/>\n",
       "</g>\n",
       "\n",
       "<g class=\"displacy-arrow\">\n",
       "    <path class=\"displacy-arc\" id=\"arrow-462f6de661834683b84d6cfb3c8238f9-0-14\" stroke-width=\"2px\" d=\"M2162,527.0 2162,502.0 2282.0,502.0 2282.0,527.0\" fill=\"none\" stroke=\"currentColor\"/>\n",
       "    <text dy=\"1.25em\" style=\"font-size: 0.8em; letter-spacing: 1px\">\n",
       "        <textPath xlink:href=\"#arrow-462f6de661834683b84d6cfb3c8238f9-0-14\" class=\"displacy-label\" startOffset=\"50%\" side=\"left\" fill=\"currentColor\" text-anchor=\"middle\">pobj</textPath>\n",
       "    </text>\n",
       "    <path class=\"displacy-arrowhead\" d=\"M2282.0,529.0 L2286.0,521.0 2278.0,521.0\" fill=\"currentColor\"/>\n",
       "</g>\n",
       "\n",
       "<g class=\"displacy-arrow\">\n",
       "    <path class=\"displacy-arc\" id=\"arrow-462f6de661834683b84d6cfb3c8238f9-0-15\" stroke-width=\"2px\" d=\"M2312,527.0 2312,502.0 2432.0,502.0 2432.0,527.0\" fill=\"none\" stroke=\"currentColor\"/>\n",
       "    <text dy=\"1.25em\" style=\"font-size: 0.8em; letter-spacing: 1px\">\n",
       "        <textPath xlink:href=\"#arrow-462f6de661834683b84d6cfb3c8238f9-0-15\" class=\"displacy-label\" startOffset=\"50%\" side=\"left\" fill=\"currentColor\" text-anchor=\"middle\">prep</textPath>\n",
       "    </text>\n",
       "    <path class=\"displacy-arrowhead\" d=\"M2432.0,529.0 L2436.0,521.0 2428.0,521.0\" fill=\"currentColor\"/>\n",
       "</g>\n",
       "\n",
       "<g class=\"displacy-arrow\">\n",
       "    <path class=\"displacy-arc\" id=\"arrow-462f6de661834683b84d6cfb3c8238f9-0-16\" stroke-width=\"2px\" d=\"M212,527.0 212,352.0 2600.0,352.0 2600.0,527.0\" fill=\"none\" stroke=\"currentColor\"/>\n",
       "    <text dy=\"1.25em\" style=\"font-size: 0.8em; letter-spacing: 1px\">\n",
       "        <textPath xlink:href=\"#arrow-462f6de661834683b84d6cfb3c8238f9-0-16\" class=\"displacy-label\" startOffset=\"50%\" side=\"left\" fill=\"currentColor\" text-anchor=\"middle\">punct</textPath>\n",
       "    </text>\n",
       "    <path class=\"displacy-arrowhead\" d=\"M2600.0,529.0 L2604.0,521.0 2596.0,521.0\" fill=\"currentColor\"/>\n",
       "</g>\n",
       "\n",
       "<g class=\"displacy-arrow\">\n",
       "    <path class=\"displacy-arc\" id=\"arrow-462f6de661834683b84d6cfb3c8238f9-0-17\" stroke-width=\"2px\" d=\"M2612,527.0 2612,502.0 2732.0,502.0 2732.0,527.0\" fill=\"none\" stroke=\"currentColor\"/>\n",
       "    <text dy=\"1.25em\" style=\"font-size: 0.8em; letter-spacing: 1px\">\n",
       "        <textPath xlink:href=\"#arrow-462f6de661834683b84d6cfb3c8238f9-0-17\" class=\"displacy-label\" startOffset=\"50%\" side=\"left\" fill=\"currentColor\" text-anchor=\"middle\"></textPath>\n",
       "    </text>\n",
       "    <path class=\"displacy-arrowhead\" d=\"M2732.0,529.0 L2736.0,521.0 2728.0,521.0\" fill=\"currentColor\"/>\n",
       "</g>\n",
       "</svg>"
      ],
      "text/plain": [
       "<IPython.core.display.HTML object>"
      ]
     },
     "metadata": {
      "tags": []
     },
     "output_type": "display_data"
    }
   ],
   "source": [
    "spacy.displacy.render(next(prideDoc.sents), jupyter=True, options={'compact': True, 'collapse_punct': True, 'collapse_phrases': True})"
   ]
  },
  {
   "cell_type": "markdown",
   "metadata": {
    "colab_type": "text",
    "id": "cJ6tmrLemIQj"
   },
   "source": [
    "## Navigating the dependency-parsed tree\n",
    "\n",
    "We can use the `root` method to find the root verb of a sentence, and the `.children` and `.ancestors` properties to navigate up and down the tree. "
   ]
  },
  {
   "cell_type": "code",
   "execution_count": 0,
   "metadata": {
    "colab": {
     "base_uri": "https://localhost:8080/",
     "height": 34
    },
    "colab_type": "code",
    "id": "4TFX9--KmAQR",
    "outputId": "46a4c21d-ef47-44fc-9979-5071a3a42c3c"
   },
   "outputs": [
    {
     "data": {
      "text/plain": [
       "is"
      ]
     },
     "execution_count": 29,
     "metadata": {
      "tags": []
     },
     "output_type": "execute_result"
    }
   ],
   "source": [
    "pride1 = next(pride.sents)\n",
    "pride1.root"
   ]
  },
  {
   "cell_type": "code",
   "execution_count": 0,
   "metadata": {
    "colab": {
     "base_uri": "https://localhost:8080/",
     "height": 34
    },
    "colab_type": "code",
    "id": "wzWroOq8mDnl",
    "outputId": "eb33b4a3-b65e-479d-89db-c01785c26205"
   },
   "outputs": [
    {
     "data": {
      "text/plain": [
       "[﻿It, truth, .]"
      ]
     },
     "execution_count": 30,
     "metadata": {
      "tags": []
     },
     "output_type": "execute_result"
    }
   ],
   "source": [
    "list(pride1.root.children)"
   ]
  }
 ],
 "metadata": {
  "colab": {
   "name": "spacy.ipynb",
   "provenance": []
  },
  "kernelspec": {
   "display_name": "Python 3 (ipykernel)",
   "language": "python",
   "name": "python3"
  },
  "language_info": {
   "codemirror_mode": {
    "name": "ipython",
    "version": 3
   },
   "file_extension": ".py",
   "mimetype": "text/x-python",
   "name": "python",
   "nbconvert_exporter": "python",
   "pygments_lexer": "ipython3",
   "version": "3.8.9"
  }
 },
 "nbformat": 4,
 "nbformat_minor": 1
}
